{
 "cells": [
  {
   "cell_type": "markdown",
   "metadata": {},
   "source": [
    "# Linear Regression \n",
    "> The simplest form of machine learning. The goal is simply to fit a line on a graph. I will only be using the libraries numpy, for creating random numbers basically, and matplotlib, for graphs. "
   ]
  },
  {
   "cell_type": "code",
   "execution_count": null,
   "metadata": {},
   "outputs": [],
   "source": [
    "import numpy as np\n",
    "import matplotlib.pyplot as plt"
   ]
  },
  {
   "cell_type": "markdown",
   "metadata": {},
   "source": [
    "## Creating a dataset\n",
    "> I created three arrays, the first, x_ar, uses the function 'linspace' to generate 50 equally spaced numbers from -3 to 3. The second, z_ar, uses the function 'rand' to generate 50 random numbers. Finally the third, y_ar, creates the dataset using both functions above.\n"
   ]
  },
  {
   "cell_type": "code",
   "execution_count": 223,
   "metadata": {},
   "outputs": [],
   "source": [
    "x_ar = np.linspace(-3,3,50)\n",
    "z_ar = np.random.rand(50)\n",
    "y_ar = x_ar/2 + np.sin(x_ar) + z_ar"
   ]
  },
  {
   "cell_type": "markdown",
   "metadata": {},
   "source": [
    "## Creating a random prediction function\n",
    "> I then used the function 'randn' and assigned random numbers to 'a' and 'b', the two parameters of the line that will aim to fit the data. I used these parameters to create a prediction array and plotted the dataset and the random prediction line on the same graph.\n"
   ]
  },
  {
   "cell_type": "code",
   "execution_count": 225,
   "metadata": {},
   "outputs": [
    {
     "name": "stdout",
     "output_type": "stream",
     "text": [
      "0.28108327510022857 -1.309810020177584\n"
     ]
    }
   ],
   "source": [
    "a = np.random.randn()\n",
    "b = np.random.randn()\n",
    "print (a, b)"
   ]
  },
  {
   "cell_type": "code",
   "execution_count": 226,
   "metadata": {},
   "outputs": [],
   "source": [
    "pred_ar = a*x_ar + b"
   ]
  },
  {
   "cell_type": "code",
   "execution_count": 227,
   "metadata": {
    "scrolled": true
   },
   "outputs": [
    {
     "data": {
      "image/png": "[encoded data removed]",
      "text/plain": [
       "<matplotlib.figure.Figure at 0x2109be919b0>"
      ]
     },
     "metadata": {},
     "output_type": "display_data"
    }
   ],
   "source": [
    "plt.scatter(x_ar,y_ar)\n",
    "plt.plot(x_ar,pred_ar)\n",
    "plt.show()"
   ]
  },
  {
   "cell_type": "markdown",
   "metadata": {},
   "source": [
    "## Finding the optimal prediction function\n",
    "> I used the principles of the batch gradient descent algorithm for this task. It consists of an iteration with the following steps: \n",
    "\n",
    "1. An array with the squared difference betwen the values of the prediction array and the dataset array is created and named cost_ar.\n",
    "2. The sum of all the values in cost_ar is stored at the variable 'cost'.\n",
    "3. The same process is done for the partial derivatives of the cost function in relation to 'a' and 'b'\n",
    "4. The values 'a' and 'b' are corrected by the partial derivative multiplied by a learning rate 'l', which has been set at 0.01.\n",
    "5. The array pred_ar is updated with the values of 'a' and 'b'. This guarantees that 'a' and 'b' are updated simultaneously.\n",
    "\n"
   ]
  },
  {
   "cell_type": "code",
   "execution_count": 228,
   "metadata": {},
   "outputs": [],
   "source": [
    "l = 0.01\n",
    "for i in range(0,10):\n",
    "    cost_ar = (pred_ar - y_ar)**2\n",
    "    cost = 0\n",
    "    for j in range(0,len(cost_ar)):\n",
    "        cost = cost + cost_ar[j]\n",
    "    #print ('cost is', cost)\n",
    "    cost_der_b_ar = (pred_ar - y_ar)\n",
    "    cost_der_b = 0\n",
    "    cost_der_a_ar = (pred_ar - y_ar)*x\n",
    "    cost_der_a = 0\n",
    "    for k in range(0,len(cost_der_b_ar)):\n",
    "        cost_der_b = cost_der_b + cost_der_b_ar[k]\n",
    "        cost_der_a = cost_der_a +cost_der_a_ar[k]\n",
    "    #print ('cost derivative in relation to b', cost_der_b)\n",
    "    #print ('cost derivative in relation to a', cost_der_a)\n",
    "    b = b - l*cost_der_b\n",
    "    a = a - l*cost_der_a\n",
    "    pred_ar = a*x_ar + b\n",
    "    #print ('b is', b)\n",
    "    #print ('w1 is', w1)"
   ]
  },
  {
   "cell_type": "markdown",
   "metadata": {},
   "source": [
    "## Plotting the prediction line\n",
    "> Finally I plotted the dataset and the optimal prediction line together"
   ]
  },
  {
   "cell_type": "code",
   "execution_count": 229,
   "metadata": {
    "scrolled": true
   },
   "outputs": [
    {
     "data": {
      "image/png": "[encoded data removed]",
      "text/plain": [
       "<matplotlib.figure.Figure at 0x2109be135c0>"
      ]
     },
     "metadata": {},
     "output_type": "display_data"
    }
   ],
   "source": [
    "plt.scatter(x_ar,y_ar)\n",
    "plt.plot(x_ar,pred_ar)\n",
    "plt.show()"
   ]
  }
 ],
 "metadata": {
  "kernelspec": {
   "display_name": "Python 3",
   "language": "python",
   "name": "python3"
  },
  "language_info": {
   "codemirror_mode": {
    "name": "ipython",
    "version": 3
   },
   "file_extension": ".py",
   "mimetype": "text/x-python",
   "name": "python",
   "nbconvert_exporter": "python",
   "pygments_lexer": "ipython3",
   "version": "3.6.4"
  }
 },
 "nbformat": 4,
 "nbformat_minor": 2
}
