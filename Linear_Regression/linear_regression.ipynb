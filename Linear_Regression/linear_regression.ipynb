{
 "cells": [
  {
   "cell_type": "markdown",
   "metadata": {},
   "source": [
    "# Linear Regression \n"
   ]
  },
  {
   "cell_type": "markdown",
   "metadata": {},
   "source": [
    "## Creating a dataset"
   ]
  },
  {
   "cell_type": "code",
   "execution_count": 65,
   "metadata": {},
   "outputs": [],
   "source": [
    "import numpy as np\n",
    "import matplotlib.pyplot as plt\n"
   ]
  },
  {
   "cell_type": "code",
   "execution_count": 66,
   "metadata": {},
   "outputs": [],
   "source": [
    "x = np.linspace(-3,3,50)\n",
    "z = np.random.rand(50)\n",
    "y = x/2 + np.sin(x) + z"
   ]
  },
  {
   "cell_type": "code",
   "execution_count": 166,
   "metadata": {},
   "outputs": [
    {
     "data": {
      "image/png": "[encoded data removed]",
      "text/plain": [
       "<matplotlib.figure.Figure at 0x233040d86a0>"
      ]
     },
     "metadata": {},
     "output_type": "display_data"
    }
   ],
   "source": [
    "plt.scatter(x,y)\n",
    "plt.show()"
   ]
  },
  {
   "cell_type": "code",
   "execution_count": 82,
   "metadata": {},
   "outputs": [
    {
     "name": "stdout",
     "output_type": "stream",
     "text": [
      "0.751027557266752 0.625420694612415\n"
     ]
    }
   ],
   "source": [
    "w1 = np.random.randn()\n",
    "b = np.random.randn()\n",
    "print (w1, b)"
   ]
  },
  {
   "cell_type": "code",
   "execution_count": 83,
   "metadata": {},
   "outputs": [],
   "source": [
    "p = w1*x + b"
   ]
  },
  {
   "cell_type": "code",
   "execution_count": 84,
   "metadata": {},
   "outputs": [
    {
     "data": {
      "text/plain": [
       "array([-1.62766198, -1.53569942, -1.44373686, -1.3517743 , -1.25981175,\n",
       "       -1.16784919, -1.07588663, -0.98392407, -0.89196151, -0.79999895,\n",
       "       -0.7080364 , -0.61607384, -0.52411128, -0.43214872, -0.34018616,\n",
       "       -0.24822361, -0.15626105, -0.06429849,  0.02766407,  0.11962663,\n",
       "        0.21158918,  0.30355174,  0.3955143 ,  0.48747686,  0.57943942,\n",
       "        0.67140197,  0.76336453,  0.85532709,  0.94728965,  1.03925221,\n",
       "        1.13121476,  1.22317732,  1.31513988,  1.40710244,  1.499065  ,\n",
       "        1.59102755,  1.68299011,  1.77495267,  1.86691523,  1.95887779,\n",
       "        2.05084034,  2.1428029 ,  2.23476546,  2.32672802,  2.41869058,\n",
       "        2.51065313,  2.60261569,  2.69457825,  2.78654081,  2.87850337])"
      ]
     },
     "execution_count": 84,
     "metadata": {},
     "output_type": "execute_result"
    }
   ],
   "source": [
    "p"
   ]
  },
  {
   "cell_type": "code",
   "execution_count": 94,
   "metadata": {},
   "outputs": [
    {
     "data": {
      "text/plain": [
       "array([-0.70341482, -0.75063284, -1.50813579, -0.82261262, -1.34474737,\n",
       "       -1.79798871, -1.71881599, -1.87162971, -1.43033564, -1.55876049,\n",
       "       -1.57526014, -1.18334149, -1.52644569, -1.36323374, -1.10375187,\n",
       "       -0.75630938, -0.87305194, -0.32461119, -0.6493186 , -0.69464243,\n",
       "       -0.37554736,  0.09178184,  0.09227535,  0.49512278,  0.06860872,\n",
       "        0.12300933,  0.94222259,  1.32197602,  1.38841514,  1.56710801,\n",
       "        0.9750948 ,  2.00876521,  1.72756519,  1.48804404,  2.46665677,\n",
       "        2.47045068,  2.5115551 ,  2.53902233,  2.58415291,  2.83553309,\n",
       "        2.52129865,  2.69049259,  2.84783349,  2.79377241,  1.99026394,\n",
       "        2.55091945,  1.93040396,  2.63447635,  1.93145089,  2.16832157])"
      ]
     },
     "execution_count": 94,
     "metadata": {},
     "output_type": "execute_result"
    }
   ],
   "source": [
    "y"
   ]
  },
  {
   "cell_type": "code",
   "execution_count": 95,
   "metadata": {},
   "outputs": [],
   "source": [
    "cost = (p - y)**2"
   ]
  },
  {
   "cell_type": "code",
   "execution_count": 96,
   "metadata": {},
   "outputs": [
    {
     "data": {
      "text/plain": [
       "array([8.54232807e-01, 6.16329539e-01, 4.14722248e-03, 2.80012082e-01,\n",
       "       7.21405994e-03, 3.97075816e-01, 4.13358159e-01, 7.88021294e-01,\n",
       "       2.89846701e-01, 5.75719064e-01, 7.52077027e-01, 3.21792583e-01,\n",
       "       1.00467426e+00, 8.66919301e-01, 5.83032580e-01, 2.58151154e-01,\n",
       "       5.13789184e-01, 6.77627015e-02, 4.58305535e-01, 6.63034102e-01,\n",
       "       3.44729319e-01, 4.48464930e-02, 9.19538600e-02, 5.84601294e-05,\n",
       "       2.60947996e-01, 3.00734487e-01, 3.19902048e-02, 2.17761220e-01,\n",
       "       1.94591703e-01, 2.78631750e-01, 2.43734417e-02, 6.17148329e-01,\n",
       "       1.70094638e-01, 6.55154337e-03, 9.36233844e-01, 7.73385042e-01,\n",
       "       6.86519947e-01, 5.83802449e-01, 5.14429891e-01, 7.68524524e-01,\n",
       "       2.21331016e-01, 2.99963993e-01, 3.75852405e-01, 2.18130465e-01,\n",
       "       1.83549384e-01, 1.62137645e-03, 4.51868618e-01, 3.61223845e-03,\n",
       "       7.31178776e-01, 5.04358187e-01])"
      ]
     },
     "execution_count": 96,
     "metadata": {},
     "output_type": "execute_result"
    }
   ],
   "source": [
    "cost"
   ]
  },
  {
   "cell_type": "code",
   "execution_count": 106,
   "metadata": {},
   "outputs": [
    {
     "name": "stdout",
     "output_type": "stream",
     "text": [
      "19.554270775440184\n"
     ]
    }
   ],
   "source": [
    "sumcost = 0\n",
    "for i in range(0,len(cost)):\n",
    "    sumcost = sumcost + cost[i]\n",
    "print (sumcost)"
   ]
  },
  {
   "cell_type": "code",
   "execution_count": 156,
   "metadata": {},
   "outputs": [],
   "source": [
    "w1 = 0.9\n",
    "b = 0.6\n",
    "p = w1*x + b\n",
    "cost = (p - y)**2"
   ]
  },
  {
   "cell_type": "code",
   "execution_count": 157,
   "metadata": {},
   "outputs": [
    {
     "name": "stdout",
     "output_type": "stream",
     "text": [
      "17.89317332421783\n"
     ]
    }
   ],
   "source": [
    "sumcost = 0\n",
    "for i in range(0,len(cost)):\n",
    "    sumcost = sumcost + cost[i]\n",
    "print (sumcost)"
   ]
  },
  {
   "cell_type": "code",
   "execution_count": 167,
   "metadata": {},
   "outputs": [
    {
     "data": {
      "image/png": "[encoded data removed]",
      "text/plain": [
       "<matplotlib.figure.Figure at 0x2330412f1d0>"
      ]
     },
     "metadata": {},
     "output_type": "display_data"
    }
   ],
   "source": [
    "plt.scatter(x,y,)\n",
    "plt.plot(x,p)\n",
    "plt.show()"
   ]
  },
  {
   "cell_type": "code",
   "execution_count": null,
   "metadata": {},
   "outputs": [],
   "source": []
  }
 ],
 "metadata": {
  "kernelspec": {
   "display_name": "Python 3",
   "language": "python",
   "name": "python3"
  },
  "language_info": {
   "codemirror_mode": {
    "name": "ipython",
    "version": 3
   },
   "file_extension": ".py",
   "mimetype": "text/x-python",
   "name": "python",
   "nbconvert_exporter": "python",
   "pygments_lexer": "ipython3",
   "version": "3.6.4"
  }
 },
 "nbformat": 4,
 "nbformat_minor": 2
}
